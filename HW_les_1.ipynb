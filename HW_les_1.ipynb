{
 "cells": [
  {
   "cell_type": "code",
   "execution_count": 15,
   "metadata": {},
   "outputs": [],
   "source": [
    "import numpy as np\n",
    "import matplotlib.pyplot as plt"
   ]
  },
  {
   "cell_type": "markdown",
   "metadata": {},
   "source": [
    "# Урок 1"
   ]
  },
  {
   "cell_type": "markdown",
   "metadata": {},
   "source": [
    "# Линейное пространство. Основные понятия. Часть 1"
   ]
  },
  {
   "cell_type": "markdown",
   "metadata": {},
   "source": [
    "__1.__ Исследовать на линейную зависимость:\n",
    "\n",
    "$$f_{1}(x)=e^{x}, f_{2}(x)=1, f_{3}(x)=x+1, f_{4}(x)=x-e^{x}.$$"
   ]
  },
  {
   "cell_type": "markdown",
   "metadata": {},
   "source": [
    "$f_{3}(x)=f_{1}(x)+f_{2}(x)+f_{4}(x)=e^{x}+1+x-e^{x}=x+1$"
   ]
  },
  {
   "cell_type": "markdown",
   "metadata": {},
   "source": [
    "Т. е. вектор $f_{3}(x)$ — линейная комбинация векторов $f_{1}(x)$, $f_{2}(x)$ и $f_{4}(x)$, из чего можно сделать вывод, что $f_{1}(x)=e^{x}, f_{2}(x)=1, f_{3}(x)=x+1, f_{4}(x)=x-e^{x}$ линейно зависимы."
   ]
  },
  {
   "cell_type": "markdown",
   "metadata": {},
   "source": [
    "__2.__ Исследовать на линейную зависимость:\n",
    "$$f_{1}(x)=2, f_{2}(x)=x, f_{3}(x)=x^{2}, f_{4}(x)=(x+1)^{2}$$"
   ]
  },
  {
   "cell_type": "markdown",
   "metadata": {},
   "source": [
    "$f_{4}(x)=x^{2}+2x+1=f_{3}(x)+2f_{2}(x)+1/2f_{1}(x)=x^{2}+2x+1/2*2=(x+1)^{2}$"
   ]
  },
  {
   "cell_type": "markdown",
   "metadata": {},
   "source": [
    "Т. е. вектор $f_{4}(x)$ — линейная комбинация векторов $f_{1}(x)$, $f_{2}(x)$ и $f_{3}(x)$, из чего можно сделать вывод, что $f_{1}(x)=2, f_{2}(x)=x, f_{3}(x)=x^{2}, f_{4}(x)=(x+1)^{2}$ линейно зависимы."
   ]
  },
  {
   "cell_type": "markdown",
   "metadata": {},
   "source": [
    "__3.__ Найти координаты вектора $x = (2, 3, 5)\\in \\mathbb{R}^{3}$ в базисе $b_{1}=(0, 0, 10)$, $b_{2}=(2, 0, 0)$, $b_{3}=(0, 1, 0)$."
   ]
  },
  {
   "cell_type": "markdown",
   "metadata": {},
   "source": [
    "$$x = a_{1}b_{1} + a_{2}b_{2} + a_{3}b_{3}$$"
   ]
  },
  {
   "cell_type": "markdown",
   "metadata": {},
   "source": [
    "$$(2, 3, 5) = (0a_{1} + 2a_{2} + 0a_{3}, 0a_{1} + 0a_{2} + 1a_{3}, 10a_{1} + 0a_{2} + 0a_{3})$$"
   ]
  },
  {
   "cell_type": "markdown",
   "metadata": {},
   "source": [
    "$$\\begin{cases}\n",
    " \\ 0a_{1} + 2a_{2} + 0a_{3} = 2\\\\\n",
    " \\ 0a_{1} + 0a_{2} + 1a_{3} = 3 \\\\\n",
    " \\ 10a_{1} + 0a_{2} + 0a_{3}= 5\n",
    "\\end{cases}$$"
   ]
  },
  {
   "cell_type": "markdown",
   "metadata": {},
   "source": [
    "$$\\begin{cases}\n",
    " \\ 2a_{2} = 2\\\\\n",
    " \\ a_{3} = 3 \\\\\n",
    " \\ 10a_{1}= 5\n",
    "\\end{cases}$$"
   ]
  },
  {
   "cell_type": "markdown",
   "metadata": {},
   "source": [
    "$$\\begin{cases}\n",
    " \\ a_{2} = 1\\\\\n",
    " \\ a_{3} = 3 \\\\\n",
    " \\ a_{1}= 1/2\n",
    "\\end{cases}$$"
   ]
  },
  {
   "cell_type": "markdown",
   "metadata": {},
   "source": [
    "\n",
    "\n",
    "\n",
    "то есть координатами вектора $x$ в базисе $b_{1}=(0, 0, 10)$, $b_{2}=(2, 0, 0)$, $b_{3}=(0, 1, 0)$ являются ($1/2$, $1$, $3$)."
   ]
  },
  {
   "cell_type": "markdown",
   "metadata": {},
   "source": [
    "__4.__ Найти координаты вектора  $3x^{2}-2x+2\\in\\mathbb{R}^{3}[x]$ :\n",
    "\n",
    "а) в базисе  1 ,  x ,  x2 ;\n",
    "\n",
    "б) в базисе  x2 ,  x−1 ,  1 ."
   ]
  },
  {
   "cell_type": "markdown",
   "metadata": {},
   "source": [
    "а) (2, -2, 3)"
   ]
  },
  {
   "cell_type": "markdown",
   "metadata": {},
   "source": [
    "б) (3, -2, 0)"
   ]
  },
  {
   "cell_type": "markdown",
   "metadata": {},
   "source": [
    "__5.__ Установить, является ли линейным подпространством:\n",
    "\n",
    "а) совокупность всех векторов трехмерного пространства, у которых по крайней мере одна из первых двух координат равна нулю;\n",
    "    \n",
    "б) все векторы, являющиеся линейными комбинациями данных векторов $\\{u_{1}, u_{2}, \\ldots, u_{n}\\}$."
   ]
  },
  {
   "cell_type": "markdown",
   "metadata": {},
   "source": [
    "а) $$(0, a, b)+(0, c, d) = (0, a+c, b+d),$$ $$\\alpha\\cdot (0, a, b) = (0, \\alpha a, \\alpha b).$$\n",
    "является"
   ]
  },
  {
   "cell_type": "markdown",
   "metadata": {},
   "source": [
    "$$(0, a, b)+(c, 0, d) = (c, a, b+d)$$ \n",
    "не является"
   ]
  },
  {
   "cell_type": "markdown",
   "metadata": {},
   "source": [
    "б) совокупность всех линейных комбинаций векторов $\\{u_{1}, u_{2}, \\ldots, u_{n}\\}$ образует некоторое подпространство исходного линейного пространства."
   ]
  },
  {
   "cell_type": "markdown",
   "metadata": {},
   "source": [
    "# Урок 2"
   ]
  },
  {
   "cell_type": "markdown",
   "metadata": {},
   "source": [
    "# Линейное пространство. Основные понятия. Часть 2"
   ]
  },
  {
   "cell_type": "markdown",
   "metadata": {},
   "source": [
    "__1.__ Найти скалярное произведение векторов $x, y \\in \\mathbb{R}$:<br>\n",
    "а) $x=(0,-3, 6),~y=(-4, 7, 9);$<br>\n",
    "б) $x=(7, -4, 0, 1),~y=(-3, 1, 11, 2).$"
   ]
  },
  {
   "cell_type": "markdown",
   "metadata": {},
   "source": [
    "а) $$(x,y) = 0\\cdot(-4)+(-3)\\cdot7+6\\cdot9 = 0 - 21 + 54 = 33.$$"
   ]
  },
  {
   "cell_type": "code",
   "execution_count": 19,
   "metadata": {},
   "outputs": [
    {
     "name": "stdout",
     "output_type": "stream",
     "text": [
      "Скалярное произведение a и b:\n",
      "33\n"
     ]
    }
   ],
   "source": [
    "a = np.array([0, -3, 6])\n",
    "b = np.array([-4, 7, 9])\n",
    "print(f'Скалярное произведение a и b:\\n{np.dot(a, b)}')"
   ]
  },
  {
   "cell_type": "markdown",
   "metadata": {},
   "source": [
    "б) $$(x,y) = 7\\cdot(-3)+(-4)\\cdot1+0\\cdot11+1\\cdot2  = -21 - 4 + 0 + 2 = -23.$$"
   ]
  },
  {
   "cell_type": "code",
   "execution_count": 20,
   "metadata": {},
   "outputs": [
    {
     "name": "stdout",
     "output_type": "stream",
     "text": [
      "Скалярное произведение a и b:\n",
      "-23\n"
     ]
    }
   ],
   "source": [
    "a = np.array([7, -4, 0, 1])\n",
    "b = np.array([-3, 1, 11, 2])\n",
    "print(f'Скалярное произведение a и b:\\n{np.dot(a, b)}')"
   ]
  },
  {
   "cell_type": "markdown",
   "metadata": {},
   "source": [
    "__2.__ Найти нормы векторов $(4, 2, 4)$ и $(12, 3, 4)$ и угол между ними."
   ]
  },
  {
   "cell_type": "markdown",
   "metadata": {},
   "source": [
    "$$\\left\\|x\\right\\|_{1} = |4|+|2|+|4|=10$$\n",
    "$$\\left\\|y\\right\\|_{1} = |12|+|3|+|4|=19$$"
   ]
  },
  {
   "cell_type": "markdown",
   "metadata": {},
   "source": [
    "$$cos\\varphi = \\frac{(x,y)}{\\left \\|x\\right \\|\\cdot\\left \\|y\\right \\|} = \\frac{70}{10\\cdot19}\\approx 0.368$$"
   ]
  },
  {
   "cell_type": "markdown",
   "metadata": {},
   "source": [
    "$$\\varphi = 0.368 / \\pi * 180 = 21.1$$"
   ]
  },
  {
   "cell_type": "markdown",
   "metadata": {},
   "source": [
    "$$\\left\\|x\\right\\|_{2} = \\sqrt{4^{2}+2^{2}+4^{2}}=\\sqrt{36}=6$$\n",
    "$$\\left\\|y\\right\\|_{2} = \\sqrt{12^{2}+3^{2}+4^{2}}=\\sqrt{169}=13$$"
   ]
  },
  {
   "cell_type": "markdown",
   "metadata": {},
   "source": [
    "$$cos\\varphi = \\frac{4\\cdot12+2\\cdot3+4\\cdot4}{\\sqrt{4^{2}+2^{2}+4^{2}}\\sqrt{12^{2}+3^{2}+4^{2}}}=\\frac{70}{\\sqrt{6084}}\\approx 0.897$$"
   ]
  },
  {
   "cell_type": "markdown",
   "metadata": {},
   "source": [
    "$$\\varphi = 0.897 / \\pi * 180 = 51.4$$"
   ]
  },
  {
   "cell_type": "markdown",
   "metadata": {},
   "source": [
    "__3.__ Будет ли линейное пространство евклидовым, если за скалярное произведение принять:<br>\n",
    "а) произведение длин векторов;<br>\n",
    "б) утроенное обычное скалярное произведение векторов?<br>"
   ]
  },
  {
   "cell_type": "markdown",
   "metadata": {},
   "source": [
    "а) нет, т.к.\n",
    "$$(x_{1}+x_{2},y)!=(x_{1},y)+(x_{2},y);$$"
   ]
  },
  {
   "cell_type": "markdown",
   "metadata": {},
   "source": [
    "б) да"
   ]
  },
  {
   "cell_type": "markdown",
   "metadata": {},
   "source": [
    "__4.__ Какие из нижеперечисленных векторов образуют ортонормированный базис в линейном пространстве $\\mathbb{R}^{3}$:<br>\n",
    "а) $(1,0,0),(0,0,1);$ <br>\n",
    "б) $(1/\\sqrt{2},-1/\\sqrt{2},0),(1/\\sqrt{2},1/\\sqrt{2},0), (0,0,1);$<br>\n",
    "в) $(1/2, -1/2, 0), (0, 1/2, 1/2), (0,0,1);$<br>\n",
    "г) $(1,0,0),(0,1,0),(0,0,1)?$ "
   ]
  },
  {
   "cell_type": "markdown",
   "metadata": {},
   "source": [
    "Если скалярное произведение векторов равно нулю и равно единице при совпадающем индексе, то вектора образуют ортонормированный базис"
   ]
  },
  {
   "cell_type": "markdown",
   "metadata": {},
   "source": [
    "а) $$1\\cdot0+0\\cdot0+0\\cdot1 = 0 + 0 + 0 = 0$$"
   ]
  },
  {
   "cell_type": "markdown",
   "metadata": {},
   "source": [
    "$$|x|_{1} = 1$$\n",
    "$$|x|_{2} = 1$$"
   ]
  },
  {
   "cell_type": "markdown",
   "metadata": {},
   "source": [
    "образуют"
   ]
  },
  {
   "cell_type": "markdown",
   "metadata": {},
   "source": [
    "б) $$\\frac{1}{\\sqrt{2}} \\cdot  \\frac{1}{\\sqrt{2}} + \\left(-\\frac{1}{\\sqrt{2}}\\right) \\cdot  \\frac{1}{\\sqrt{2}} + 0 \\cdot 0 = 0$$\n",
    "\n"
   ]
  },
  {
   "cell_type": "markdown",
   "metadata": {},
   "source": [
    "$$|x_1| = \\sqrt{\\frac{1}{\\sqrt{2}}^2 + \\left(-\\frac{1}{\\sqrt{2}}\\right)^2 + 0^2} = 1$$\n",
    "$$|x_2| = \\sqrt{\\frac{1}{\\sqrt{2}}^2 + \\frac{1}{\\sqrt{2}}^2 + 0^2} = 1$$\n",
    "$$|x_3| = 1$$"
   ]
  },
  {
   "cell_type": "markdown",
   "metadata": {},
   "source": [
    "не образуют"
   ]
  },
  {
   "cell_type": "markdown",
   "metadata": {},
   "source": [
    "в) $$\\frac{1}{2} \\cdot \\frac{1}{2} + \\left(-\\frac{1}{2} \\cdot -\\frac{1}{2}\\right) + 0 \\cdot 0 = 0.5$$"
   ]
  },
  {
   "cell_type": "markdown",
   "metadata": {},
   "source": [
    "не образуют"
   ]
  },
  {
   "cell_type": "markdown",
   "metadata": {},
   "source": [
    "г) образуют"
   ]
  }
 ],
 "metadata": {
  "kernelspec": {
   "display_name": "Python 3",
   "language": "python",
   "name": "python3"
  },
  "language_info": {
   "codemirror_mode": {
    "name": "ipython",
    "version": 3
   },
   "file_extension": ".py",
   "mimetype": "text/x-python",
   "name": "python",
   "nbconvert_exporter": "python",
   "pygments_lexer": "ipython3",
   "version": "3.8.3"
  }
 },
 "nbformat": 4,
 "nbformat_minor": 4
}
